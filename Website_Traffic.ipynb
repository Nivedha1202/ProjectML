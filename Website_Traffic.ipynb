{
  "nbformat": 4,
  "nbformat_minor": 0,
  "metadata": {
    "colab": {
      "provenance": []
    },
    "kernelspec": {
      "name": "python3",
      "display_name": "Python 3"
    },
    "language_info": {
      "name": "python"
    }
  },
  "cells": [
    {
      "cell_type": "code",
      "execution_count": null,
      "metadata": {
        "id": "l3rWsP6sTzue"
      },
      "outputs": [],
      "source": [
        "import pandas as pd\n",
        "from sklearn.model_selection import train_test_split\n",
        "from sklearn.ensemble import RandomForestRegressor\n",
        "from sklearn.metrics import mean_absolute_error\n",
        "from datetime import datetime\n",
        "from sklearn.metrics import accuracy_score\n",
        "import numpy as np"
      ]
    },
    {
      "cell_type": "code",
      "source": [
        "# Generate sample data\n",
        "start_date = '2022-01-01'\n",
        "end_date = '2022-12-31'\n",
        "dates = pd.date_range(start=start_date, end=end_date, freq='D')\n",
        "traffic = np.random.randint(1000, 5000, size=len(dates))\n",
        "\n",
        "# Create a DataFrame from the generated data\n",
        "data = pd.DataFrame({'date': dates, 'traffic': traffic})\n",
        "\n",
        "# Save the dataset to a CSV file\n",
        "data.to_csv('traffic_data.csv', index=False)\n"
      ],
      "metadata": {
        "id": "slfgA6VQUrJg"
      },
      "execution_count": null,
      "outputs": []
    },
    {
      "cell_type": "code",
      "source": [
        "# Convert the date column to a datetime type\n",
        "data['date'] = pd.to_datetime(data['date'])\n",
        "\n",
        "# Set the date column as the index\n",
        "data.set_index('date', inplace=True)"
      ],
      "metadata": {
        "id": "lp5HMMvyUwRA"
      },
      "execution_count": null,
      "outputs": []
    },
    {
      "cell_type": "code",
      "source": [
        "# Create lag features\n",
        "data['traffic_lag1'] = data['traffic'].shift(1)\n",
        "data['traffic_lag7'] = data['traffic'].shift(7)\n",
        "\n",
        "# Remove missing values\n",
        "data.dropna(inplace=True)\n",
        "\n",
        "# Split the dataset into features and target variable\n",
        "X = data.drop('traffic', axis=1)\n",
        "y = data['traffic']\n",
        "\n",
        "# Split the dataset into training and test sets\n",
        "X_train, X_test, y_train, y_test = train_test_split(X, y, test_size=0.2, random_state=42)"
      ],
      "metadata": {
        "id": "iBwIAZ9IUriZ"
      },
      "execution_count": null,
      "outputs": []
    },
    {
      "cell_type": "code",
      "source": [
        "# Create a random forest regressor model\n",
        "model = RandomForestRegressor(random_state=42)\n",
        "\n",
        "# Train the model\n",
        "model.fit(X_train, y_train)\n",
        "\n",
        "# Make predictions on the test set\n",
        "y_pred = model.predict(X_test)"
      ],
      "metadata": {
        "id": "vvvKT-xIUr4O"
      },
      "execution_count": null,
      "outputs": []
    },
    {
      "cell_type": "code",
      "source": [
        "# Calculate the mean absolute error\n",
        "mae = mean_absolute_error(y_test, y_pred)\n",
        "print(\"Mean Absolute Error:\", mae)"
      ],
      "metadata": {
        "colab": {
          "base_uri": "https://localhost:8080/"
        },
        "id": "W7VwiWhGVKZ-",
        "outputId": "5b48b23b-e98c-440d-b1b2-1f782c95ab0b"
      },
      "execution_count": null,
      "outputs": [
        {
          "output_type": "stream",
          "name": "stdout",
          "text": [
            "Mean Absolute Error: 957.3993055555555\n"
          ]
        }
      ]
    }
  ]
}