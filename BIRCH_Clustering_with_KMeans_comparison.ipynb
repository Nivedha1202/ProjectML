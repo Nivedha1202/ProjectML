{
  "nbformat": 4,
  "nbformat_minor": 0,
  "metadata": {
    "colab": {
      "provenance": []
    },
    "kernelspec": {
      "name": "python3",
      "display_name": "Python 3"
    },
    "language_info": {
      "name": "python"
    }
  },
  "cells": [
    {
      "cell_type": "code",
      "execution_count": null,
      "metadata": {
        "id": "3SNg1SeUcBW3"
      },
      "outputs": [],
      "source": [
        "import numpy as np\n",
        "import argparse\n",
        "import csv\n",
        "from sklearn.cluster import Birch\n",
        "import matplotlib.pyplot as plt\n",
        "\n",
        "import pandas as pd\n",
        "import plotly as pl\n",
        "import plotly.graph_objs as go\n",
        "import seaborn as sns\n",
        "\n",
        "from typing import  Tuple, Dict, List"
      ]
    },
    {
      "cell_type": "markdown",
      "source": [
        "**BIRCH Clustering**"
      ],
      "metadata": {
        "id": "MSwQAZPrBnEZ"
      }
    },
    {
      "cell_type": "code",
      "source": [
        "def load_data(file_name) -> List[List]:\n",
        "\tprint(\"--->Loading csv file\")\n",
        "\n",
        "\twith open(file_name) as csv_file:\n",
        "\t\tcsv_reader = csv.reader(csv_file, delimiter=\",\")\n",
        "\t\tline_count = 0\n",
        "\t\tdata = []\n",
        "\n",
        "\t\tfor line in csv_reader:\n",
        "\t\t\tif line_count == 0:\n",
        "\t\t\t\tprint(f'Column names: [{\", \".join(line)}]')\n",
        "\t\t\telse:\n",
        "\t\t\t\tdata.append(line)\n",
        "\t\t\tline_count += 1\n",
        "\n",
        "\tprint(f'Loaded {line_count} records')\n",
        "\treturn data"
      ],
      "metadata": {
        "id": "-XAwff9QBmW4"
      },
      "execution_count": null,
      "outputs": []
    },
    {
      "cell_type": "code",
      "source": [
        "def compute_clusters(data: List) -> np.ndarray:\n",
        "\tprint(\"--->Computing clusters\")\n",
        "\tbirch = Birch(\n",
        "\t\tbranching_factor=50,\n",
        "\t\tn_clusters=5,\n",
        "\t\tthreshold=0.3,\n",
        "\t\tcopy=True,\n",
        "\t\tcompute_labels=True\n",
        "\t)\n",
        "\n",
        "\tbirch.fit(data)\n",
        "\tpredictions = np.array(birch.predict(data))\n",
        "\treturn predictions"
      ],
      "metadata": {
        "id": "r1NR7axOD8r1"
      },
      "execution_count": null,
      "outputs": []
    },
    {
      "cell_type": "code",
      "source": [
        "def show_results(data: np.ndarray, labels: np.ndarray, plot_handler = \"seaborn\") -> None:\n",
        "\tlabels = np.reshape(labels, (1, labels.size))\n",
        "\tdata = np.concatenate((data, labels.T), axis=1)\n",
        "\n",
        "\t# Seaborn plot\n",
        "\tif plot_handler == \"seaborn\":\n",
        "\t\tfacet = sns.lmplot(\n",
        "\t\t\tdata=pd.DataFrame(data, columns=[\"Income\", \"Spending\", \"Label\"]),\n",
        "\t\t\tx=\"Income\",\n",
        "\t\t\ty=\"Spending\",\n",
        "\t\t\thue='Label',\n",
        "\t\t\tfit_reg=False,\n",
        "\t\t\tlegend=True,\n",
        "\t\t\tlegend_out=True\n",
        "\t\t)\n",
        "\n",
        "\t# Pure matplotlib plot\n",
        "\tif plot_handler == \"matplotlib\":\n",
        "\t\tfig = plt.figure()\n",
        "\t\tax = fig.add_subplot(111)\n",
        "\t\tscatter = ax.scatter(data[:,0], data[:, 1], c=data[:, 2], s=50)\n",
        "\t\tax.set_title(\"Clusters\")\n",
        "\t\tax.set_xlabel(\"Income\")\n",
        "\t\tax.set_ylabel(\"Spending\")\n",
        "\t\tplt.colorbar(scatter)\n",
        "\tplt.show()"
      ],
      "metadata": {
        "id": "jBXOYhnvUL_a"
      },
      "execution_count": null,
      "outputs": []
    },
    {
      "cell_type": "code",
      "source": [
        "def show_data_corelation(data=None, csv_file_name=None):\n",
        "\tdata_set = None\n",
        "\tif csv_file_name is None:\n",
        "\t\tcor = np.corrcoef(data)\n",
        "\t\tprint(\"Corelation matrix:\")\n",
        "\t\tprint(cor)\n",
        "\telse:\n",
        "\t\tdata_set = pd.read_csv(csv_file_name)\n",
        "\t\tprint(data_set.describe())\n",
        "\t\tdata_set = data_set[[\"Age\", \"Annual Income (k$)\", \"Spending Score (1-100)\"]]\n",
        "\t\tcor = data_set.corr()\n",
        "\tsns.heatmap(cor, square=True)\n",
        "\tplt.show()\n",
        "\treturn data_set"
      ],
      "metadata": {
        "id": "EbX9ImIwUaTV"
      },
      "execution_count": null,
      "outputs": []
    },
    {
      "cell_type": "code",
      "source": [
        "def main(args) -> None:\n",
        "\tdata = load_data(args.data_file)\n",
        "\tfiltered_data = np.array([[item[3], item[4]] for item in data])\n",
        "\n",
        "\tdata_set = None #Alternative data loaded using pandas\n",
        "\tif args.describe == True:\n",
        "\t\tdata_set = show_data_corelation(csv_file_name=args.data_file)\n",
        "\n",
        "\tfiltered_data = np.array(filtered_data).astype(np.float64)\n",
        "\tlabels = compute_clusters(filtered_data)\n",
        "\tshow_results(filtered_data, labels, args.plot_handler)\n",
        "\n",
        "\n",
        "if __name__ == \"__main__\":\n",
        "\tparser = argparse.ArgumentParser(description=\"Do some clustering\")\n",
        "\tparser.add_argument(\"--data-file\", type=str, default=\"/content/Mall_Customers.csv\", help=\"dataset file name\")\n",
        "\tparser.add_argument(\"--describe\", type=bool, default=False, help=\"describe the dataset\")\n",
        "\tparser.add_argument(\"--plot-handler\", type=str, default=\"seaborn\", help=\"what library to use for data visualisation\")\n",
        "args, unknown = parser.parse_known_args()\n",
        "main(args)"
      ],
      "metadata": {
        "colab": {
          "base_uri": "https://localhost:8080/",
          "height": 630
        },
        "id": "_gZ7cYh-Ubn8",
        "outputId": "e70d126d-ceed-4169-e3b6-03644851fa02"
      },
      "execution_count": null,
      "outputs": [
        {
          "output_type": "stream",
          "name": "stdout",
          "text": [
            "--->Loading csv file\n",
            "Column names: [CustomerID, Gender, Age, Annual Income (k$), Spending Score (1-100)]\n",
            "Loaded 201 records\n",
            "--->Computing clusters\n"
          ]
        },
        {
          "output_type": "stream",
          "name": "stderr",
          "text": [
            "/usr/local/lib/python3.9/dist-packages/seaborn/regression.py:582: UserWarning: legend_out is deprecated from the `lmplot` function signature. Please update your code to pass it using `facet_kws`.\n",
            "  warnings.warn(msg, UserWarning)\n"
          ]
        },
        {
          "output_type": "display_data",
          "data": {
            "text/plain": [
              "<Figure size 572x500 with 1 Axes>"
            ],
            "image/png": "[encoded data removed]"
          },
          "metadata": {}
        }
      ]
    },
    {
      "cell_type": "code",
      "source": [
        "from sklearn.cluster import KMeans, Birch\n",
        "from sklearn.metrics import silhouette_score, calinski_harabasz_score\n",
        "\n",
        "# Load and preprocess data\n",
        "data = load_data(\"/content/Mall_Customers.csv\")\n",
        "filtered_data = np.array([[item[3], item[4]] for item in data])\n",
        "filtered_data = np.array(filtered_data).astype(np.float64)\n",
        "\n",
        "# Cluster using KMeans algorithm\n",
        "kmeans = KMeans(n_clusters=5)\n",
        "kmeans.fit(filtered_data)\n",
        "kmeans_labels = kmeans.labels_\n",
        "\n",
        "# Compute Silhouette Score and Calinski-Harabasz Index for KMeans\n",
        "kmeans_silhouette = silhouette_score(filtered_data, kmeans_labels)\n",
        "kmeans_calinski_harabasz = calinski_harabasz_score(filtered_data, kmeans_labels)\n",
        "\n",
        "# Cluster using BIRCH algorithm\n",
        "birch = Birch(n_clusters=5)\n",
        "birch.fit(filtered_data)\n",
        "birch_labels = birch.labels_\n",
        "\n",
        "# Compute Silhouette Score and Calinski-Harabasz Index for BIRCH\n",
        "birch_silhouette = silhouette_score(filtered_data, birch_labels)\n",
        "birch_calinski_harabasz = calinski_harabasz_score(filtered_data, birch_labels)\n",
        "\n",
        "print(\"KMeans Silhouette Score:\", kmeans_silhouette)\n",
        "print(\"KMeans Calinski-Harabasz Index:\", kmeans_calinski_harabasz)\n",
        "print(\"BIRCH Silhouette Score:\", birch_silhouette)\n",
        "print(\"BIRCH Calinski-Harabasz Index:\", birch_calinski_harabasz)\n"
      ],
      "metadata": {
        "colab": {
          "base_uri": "https://localhost:8080/"
        },
        "id": "g8zgZdmHSY3s",
        "outputId": "81b43166-6f13-4b45-ac16-cf51f64b8c38"
      },
      "execution_count": null,
      "outputs": [
        {
          "output_type": "stream",
          "name": "stdout",
          "text": [
            "--->Loading csv file\n",
            "Column names: [CustomerID, Gender, Age, Annual Income (k$), Spending Score (1-100)]\n",
            "Loaded 201 records\n",
            "KMeans Silhouette Score: 0.553931997444648\n",
            "KMeans Calinski-Harabasz Index: 247.35899338037282\n",
            "BIRCH Silhouette Score: 0.5419687641328385\n",
            "BIRCH Calinski-Harabasz Index: 240.60312028288482\n"
          ]
        },
        {
          "output_type": "stream",
          "name": "stderr",
          "text": [
            "/usr/local/lib/python3.9/dist-packages/sklearn/cluster/_kmeans.py:870: FutureWarning: The default value of `n_init` will change from 10 to 'auto' in 1.4. Set the value of `n_init` explicitly to suppress the warning\n",
            "  warnings.warn(\n"
          ]
        }
      ]
    },
    {
      "cell_type": "code",
      "source": [
        "data = pd.read_csv('/content/Mall_Customers.csv')"
      ],
      "metadata": {
        "id": "SNmMiSazsE2N"
      },
      "execution_count": null,
      "outputs": []
    },
    {
      "cell_type": "code",
      "source": [
        "X = data[['Annual Income (k$)','Spending Score (1-100)']]\n",
        "X = (X - X.mean()) / X.std()"
      ],
      "metadata": {
        "id": "xAZxGVsjr_c_"
      },
      "execution_count": null,
      "outputs": []
    },
    {
      "cell_type": "code",
      "source": [
        "from sklearn.cluster import Birch\n",
        "from sklearn.metrics import silhouette_score, davies_bouldin_score\n",
        "\n",
        "brc = Birch(n_clusters=5)\n",
        "brc.fit(X)\n",
        "\n",
        "labels = brc.predict(X)\n",
        "silhouette = silhouette_score(X, labels)\n",
        "db = davies_bouldin_score(X, labels)\n",
        "\n",
        "print(f'Silhouette score: {silhouette:.3f}')\n",
        "print(f'Davies-Bouldin score: {db:.3f}')\n"
      ],
      "metadata": {
        "colab": {
          "base_uri": "https://localhost:8080/"
        },
        "id": "2V-PirflqN-Q",
        "outputId": "226fc16b-445f-4864-e97b-046cf6be6ecc"
      },
      "execution_count": null,
      "outputs": [
        {
          "output_type": "stream",
          "name": "stdout",
          "text": [
            "Silhouette score: 0.416\n",
            "Davies-Bouldin score: 0.697\n"
          ]
        }
      ]
    }
  ]
}