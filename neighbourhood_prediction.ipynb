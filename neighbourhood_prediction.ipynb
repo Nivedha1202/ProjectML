{
  "nbformat": 4,
  "nbformat_minor": 0,
  "metadata": {
    "colab": {
      "provenance": []
    },
    "kernelspec": {
      "name": "python3",
      "display_name": "Python 3"
    },
    "language_info": {
      "name": "python"
    }
  },
  "cells": [
    {
      "cell_type": "markdown",
      "source": [
        "Importing libraries"
      ],
      "metadata": {
        "id": "ptdAoP5XIGPb"
      }
    },
    {
      "cell_type": "code",
      "execution_count": 4,
      "metadata": {
        "id": "rEXHOXCaHdjX"
      },
      "outputs": [],
      "source": [
        "import numpy as np\n",
        "import pandas as pd\n",
        "from sklearn.model_selection import train_test_split\n",
        "from sklearn.preprocessing import StandardScaler\n",
        "from sklearn.impute import SimpleImputer\n",
        "from sklearn.neighbors import KNeighborsClassifier\n",
        "from sklearn.metrics import accuracy_score"
      ]
    },
    {
      "cell_type": "markdown",
      "source": [
        "Loading the dataset"
      ],
      "metadata": {
        "id": "pCI0xtF6IpeO"
      }
    },
    {
      "cell_type": "code",
      "source": [
        "data=pd.read_csv('data.csv')"
      ],
      "metadata": {
        "id": "x_zDrbAqIsyw"
      },
      "execution_count": 6,
      "outputs": []
    },
    {
      "cell_type": "markdown",
      "source": [
        "Select features and target variable"
      ],
      "metadata": {
        "id": "ypHDgZLAIxHM"
      }
    },
    {
      "cell_type": "code",
      "source": [
        "features=['CRIM', 'ZN', 'INDUS', 'CHAS', 'NOX', 'RM', 'AGE', 'DIS', 'RAD', 'TAX']\n",
        "x=data[features].values\n",
        "y=data['MEDV'].apply(lambda x: 1 if x>25 else 0).values"
      ],
      "metadata": {
        "id": "O1HIn3eXI4NN"
      },
      "execution_count": 8,
      "outputs": []
    },
    {
      "cell_type": "markdown",
      "source": [
        "Handling misssing variables"
      ],
      "metadata": {
        "id": "H-EanrrzK4DD"
      }
    },
    {
      "cell_type": "code",
      "source": [
        "imputer=SimpleImputer(strategy='mean')\n",
        "X=imputer.fit_transform(x)"
      ],
      "metadata": {
        "id": "rYHPnyurK7SF"
      },
      "execution_count": 11,
      "outputs": []
    },
    {
      "cell_type": "markdown",
      "source": [
        "Splitting the dataset into training and testing sets"
      ],
      "metadata": {
        "id": "0pakV-58LLTm"
      }
    },
    {
      "cell_type": "code",
      "source": [
        "X_train, X_test, y_train, y_test=train_test_split(X, y, test_size=0.2, random_state=42)"
      ],
      "metadata": {
        "id": "s7v9_QWmLV2P"
      },
      "execution_count": 12,
      "outputs": []
    },
    {
      "cell_type": "markdown",
      "source": [
        "Standardize the features"
      ],
      "metadata": {
        "id": "NoqMevQXNJh4"
      }
    },
    {
      "cell_type": "code",
      "source": [
        "scalar=StandardizeScalar()\n",
        "X_train=scalar.fit_transform(X_train)\n",
        "X_test=scalar.transform(X_test)"
      ],
      "metadata": {
        "colab": {
          "base_uri": "https://localhost:8080/",
          "height": 210
        },
        "id": "x6639zNGNNT5",
        "outputId": "4f907edb-4085-4e63-c0f1-b4826d5db4f6"
      },
      "execution_count": 13,
      "outputs": [
        {
          "output_type": "error",
          "ename": "NameError",
          "evalue": "ignored",
          "traceback": [
            "\u001b[0;31m---------------------------------------------------------------------------\u001b[0m",
            "\u001b[0;31mNameError\u001b[0m                                 Traceback (most recent call last)",
            "\u001b[0;32m<ipython-input-13-b3b72616e486>\u001b[0m in \u001b[0;36m<cell line: 1>\u001b[0;34m()\u001b[0m\n\u001b[0;32m----> 1\u001b[0;31m \u001b[0mscalar\u001b[0m\u001b[0;34m=\u001b[0m\u001b[0mStandardizeScalar\u001b[0m\u001b[0;34m(\u001b[0m\u001b[0;34m)\u001b[0m\u001b[0;34m\u001b[0m\u001b[0;34m\u001b[0m\u001b[0m\n\u001b[0m\u001b[1;32m      2\u001b[0m \u001b[0mX_train\u001b[0m\u001b[0;34m=\u001b[0m\u001b[0mscalar\u001b[0m\u001b[0;34m.\u001b[0m\u001b[0mfit_transform\u001b[0m\u001b[0;34m(\u001b[0m\u001b[0mX_train\u001b[0m\u001b[0;34m)\u001b[0m\u001b[0;34m\u001b[0m\u001b[0;34m\u001b[0m\u001b[0m\n\u001b[1;32m      3\u001b[0m \u001b[0mX_test\u001b[0m\u001b[0;34m=\u001b[0m\u001b[0mscalar\u001b[0m\u001b[0;34m.\u001b[0m\u001b[0mtransform\u001b[0m\u001b[0;34m(\u001b[0m\u001b[0mX_test\u001b[0m\u001b[0;34m)\u001b[0m\u001b[0;34m\u001b[0m\u001b[0;34m\u001b[0m\u001b[0m\n",
            "\u001b[0;31mNameError\u001b[0m: name 'StandardizeScalar' is not defined"
          ]
        }
      ]
    },
    {
      "cell_type": "markdown",
      "source": [
        "Create and train the KNN model"
      ],
      "metadata": {
        "id": "1bSeqJM2NnzN"
      }
    },
    {
      "cell_type": "code",
      "source": [
        "k=5\n",
        "knn_model=KNeighborsClassifier(n_neighbors=k)\n",
        "knn_model.fit(X_train, y_train)"
      ],
      "metadata": {
        "id": "3AbMAOBzNnfn"
      },
      "execution_count": null,
      "outputs": []
    },
    {
      "cell_type": "markdown",
      "source": [
        "Make predictions on the test data"
      ],
      "metadata": {
        "id": "-LJbjjuZNcV7"
      }
    },
    {
      "cell_type": "code",
      "source": [
        "predictions=knn_model.predict(X_test)"
      ],
      "metadata": {
        "id": "_faAhHnjNgsd"
      },
      "execution_count": null,
      "outputs": []
    },
    {
      "cell_type": "markdown",
      "source": [
        "Accuracy score"
      ],
      "metadata": {
        "id": "QgNsotm8N5lu"
      }
    },
    {
      "cell_type": "code",
      "source": [
        "accuracy=accuracy_score(y_test, predictions)\n",
        "print(f'Accuracy: {accuracy:.2f}')"
      ],
      "metadata": {
        "id": "MoXlz8zSN5VG"
      },
      "execution_count": null,
      "outputs": []
    }
  ]
}